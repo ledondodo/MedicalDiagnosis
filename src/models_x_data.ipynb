{
 "cells": [
  {
   "cell_type": "code",
   "execution_count": null,
   "metadata": {},
   "outputs": [],
   "source": [
    "import numpy as np\n",
    "import pandas as pd\n",
    "import matplotlib.pyplot as plt\n",
    "from sklearn.metrics import accuracy_score, f1_score, precision_score, recall_score \n",
    "from sklearn.preprocessing import LabelEncoder\n",
    "from helpers import splitting, get_Xy\n",
    "import random\n",
    "from helpers import create_ANN, create_CNN, results_NN, plot_res, results_rf, plot_res_rf, results_svc, results_gnb"
   ]
  },
  {
   "cell_type": "markdown",
   "metadata": {},
   "source": [
    "# Data loading"
   ]
  },
  {
   "cell_type": "code",
   "execution_count": null,
   "metadata": {},
   "outputs": [],
   "source": [
    "X_ohe = pd.read_csv('TransformedData/X_ohe.csv')\n",
    "X_w2v = pd.read_csv('TransformedData/X_w2v.csv')\n",
    "X_d2v = pd.read_csv('TransformedData/X_d2v.csv')\n",
    "X_tfidf = pd.read_csv('TransformedData/X_tfidf.csv')\n",
    "X_bert = pd.read_csv('TransformedData/X_bert.csv')\n",
    "\n",
    "y = pd.read_csv('TransformedData/y.csv')\n",
    "y = pd.Series(y['condition_name'])\n",
    "\n",
    "encoder = LabelEncoder()"
   ]
  },
  {
   "cell_type": "code",
   "execution_count": null,
   "metadata": {},
   "outputs": [],
   "source": [
    "train_ohe, test_ohe = splitting(X_ohe, y)\n",
    "\n",
    "X_train_ohe, y_train = get_Xy(train_ohe)\n",
    "X_test_ohe, y_test = get_Xy(test_ohe)\n",
    "\n",
    "train_indices = train_ohe.index\n",
    "test_indices = test_ohe.index\n",
    "\n",
    "X_train_w2v = X_w2v.loc[train_indices]\n",
    "X_test_w2v = X_w2v.loc[test_indices]\n",
    "\n",
    "X_train_d2v = X_d2v.loc[train_indices]\n",
    "X_test_d2v = X_d2v.loc[test_indices]\n",
    "\n",
    "X_train_tfidf = X_tfidf.loc[train_indices]\n",
    "X_test_tfidf = X_tfidf.loc[test_indices]\n",
    "\n",
    "X_train_bert = X_bert.loc[train_indices]\n",
    "X_test_bert = X_bert.loc[test_indices]"
   ]
  },
  {
   "cell_type": "code",
   "execution_count": null,
   "metadata": {},
   "outputs": [],
   "source": [
    "dataset = []\n",
    "dataset.append([X_train_ohe, X_test_ohe, y_train, y_test])\n",
    "dataset.append([X_train_w2v, X_test_w2v, y_train, y_test])\n",
    "dataset.append([X_train_d2v, X_test_d2v, y_train, y_test])\n",
    "dataset.append([X_train_tfidf, X_test_tfidf, y_train, y_test])\n",
    "dataset.append([X_train_bert, X_test_bert, y_train, y_test])"
   ]
  },
  {
   "cell_type": "code",
   "execution_count": null,
   "metadata": {},
   "outputs": [],
   "source": [
    "#fix a seed for reproducibility\n",
    "seed=0\n",
    "np.random.seed(0)\n",
    "random.seed(0)\n",
    "#fix a score metric for f1\n",
    "avg = 'weighted'"
   ]
  },
  {
   "cell_type": "markdown",
   "metadata": {},
   "source": [
    "# Compare performance over dataset type"
   ]
  },
  {
   "cell_type": "markdown",
   "metadata": {},
   "source": [
    "## Random Forest"
   ]
  },
  {
   "cell_type": "markdown",
   "metadata": {},
   "source": [
    "Best hyperparameters for each dataset type"
   ]
  },
  {
   "cell_type": "code",
   "execution_count": null,
   "metadata": {},
   "outputs": [],
   "source": [
    "param_list = [\n",
    "    {'n_estimators': 300, 'max_depth': 500, 'min_samples_split': 3, 'min_samples_leaf' :2, 'max_features':None, 'random_state' : seed, 'n_jobs' : 8}, #OHE\n",
    "    {'n_estimators': 300, 'max_depth': 500, 'min_samples_split': 3, 'min_samples_leaf' :2, 'max_features':None, 'random_state' : seed, 'n_jobs' : 8}, #W2V\n",
    "    {'n_estimators': 300, 'max_depth': 500, 'min_samples_split': 3, 'min_samples_leaf' :2, 'max_features':None, 'random_state' : seed, 'n_jobs' : 8}, #D2V\n",
    "    {'n_estimators': 300, 'max_depth': 500, 'min_samples_split': 3, 'min_samples_leaf' :2, 'max_features':None, 'random_state' : seed, 'n_jobs' : 8}, #TFIDF\n",
    "    {'n_estimators': 300, 'max_depth': 500, 'min_samples_split': 3, 'min_samples_leaf' :2, 'max_features':None, 'random_state' : seed, 'n_jobs' : 8} #BERT\n",
    "]"
   ]
  },
  {
   "cell_type": "code",
   "execution_count": null,
   "metadata": {},
   "outputs": [],
   "source": [
    "results_list = results_rf(encoder, dataset, param_list)\n",
    "plot_res_rf(results_list)"
   ]
  },
  {
   "cell_type": "markdown",
   "metadata": {},
   "source": [
    "## Linear SVC"
   ]
  },
  {
   "cell_type": "markdown",
   "metadata": {},
   "source": [
    "Best hyperparameters for each dataset type"
   ]
  },
  {
   "cell_type": "code",
   "execution_count": null,
   "metadata": {},
   "outputs": [],
   "source": [
    "param_list = [\n",
    "    {'random_state' : seed, 'C' : 0.3593813663804626, 'loss' : 'hinge', 'max_iter' : 1000, 'tol' : 0.01}, #OHE\n",
    "    {'random_state' : seed, 'C': 21.54434690031882, 'loss': 'hinge', 'tol': 0.01}, #W2V\n",
    "    {'random_state' : seed, 'C' : 2.782559402207126, 'loss' : 'squared_hinge', 'max_iter' : 1000, 'tol' : 0.01}, #D2V\n",
    "    {'random_state' : seed, 'C' : 21.54434690031882, 'loss' : 'squared_hinge', 'max_iter' : 1000, 'tol' : 0.01}, #TFIDF\n",
    "    {'random_state' : seed, 'C' : 0.3593813663804626, 'loss' : 'squared_hinge', 'max_iter' : 1000, 'tol' : 0.01} #BERT\n",
    "]"
   ]
  },
  {
   "cell_type": "code",
   "execution_count": null,
   "metadata": {},
   "outputs": [],
   "source": [
    "results_list, predictions_breast_cancer = results_svc(encoder, dataset, param_list)\n",
    "plot_res(results_list)"
   ]
  },
  {
   "cell_type": "markdown",
   "metadata": {},
   "source": [
    "## Gaussian NB"
   ]
  },
  {
   "cell_type": "markdown",
   "metadata": {},
   "source": [
    "Best hyperparameters for each dataset type"
   ]
  },
  {
   "cell_type": "code",
   "execution_count": null,
   "metadata": {},
   "outputs": [],
   "source": [
    "param_list = [\n",
    "    {'var_smoothing': 1.0}, #OHE\n",
    "    {'var_smoothing': 0.0001873817422860383}, #W2V\n",
    "    {'var_smoothing': 0.43287612810830584}, #D2V\n",
    "    {'var_smoothing': 1.0}, #TFIDF\n",
    "    {'var_smoothing': 0.15199110829529336} #BERT\n",
    "]"
   ]
  },
  {
   "cell_type": "code",
   "execution_count": null,
   "metadata": {},
   "outputs": [],
   "source": [
    "results_list = results_gnb(encoder, dataset, param_list)\n",
    "plot_res(results_list)"
   ]
  },
  {
   "cell_type": "markdown",
   "metadata": {},
   "source": [
    "# Compare with a Neural Network"
   ]
  },
  {
   "cell_type": "code",
   "execution_count": null,
   "metadata": {},
   "outputs": [],
   "source": [
    "import tensorflow as tf\n",
    "from sklearn.model_selection import train_test_split"
   ]
  },
  {
   "cell_type": "code",
   "execution_count": null,
   "metadata": {},
   "outputs": [],
   "source": [
    "y_ohe = pd.get_dummies(y)\n",
    "y_train_dum = y_ohe.loc[train_indices]\n",
    "y_test_dum = y_ohe.loc[test_indices]\n",
    "\n",
    "y_train_dum = tf.cast(y_train_dum,tf.float32).numpy()\n",
    "y_test_dum = tf.cast(y_test_dum,tf.float32).numpy()\n",
    "\n",
    "X_val_ohe, X_test_ohe, y_val_dum, y_test_dum = train_test_split(X_test_ohe, y_test_dum,test_size=0.5, random_state=seed)\n",
    "\n",
    "val_indices = X_val_ohe.index\n",
    "new_test_indices = X_test_ohe.index\n",
    "\n",
    "X_val_w2v = X_test_w2v.loc[val_indices]\n",
    "X_test_w2v = X_test_w2v.loc[new_test_indices]\n",
    "\n",
    "X_val_d2v = X_test_d2v.loc[val_indices]\n",
    "X_test_d2v = X_d2v.loc[new_test_indices]\n",
    "\n",
    "X_val_tfidf = X_test_tfidf.loc[val_indices]\n",
    "X_test_tfidf = X_test_tfidf.loc[new_test_indices]\n",
    "\n",
    "X_val_bert = X_test_bert.loc[val_indices]\n",
    "X_test_bert = X_test_bert.loc[new_test_indices]"
   ]
  },
  {
   "cell_type": "code",
   "execution_count": null,
   "metadata": {},
   "outputs": [],
   "source": [
    "dataset = []\n",
    "dataset.append([X_train_ohe, X_val_ohe, X_test_ohe, y_train_dum, y_val_dum, y_test_dum])\n",
    "dataset.append([X_train_w2v, X_val_w2v, X_test_w2v, y_train_dum, y_val_dum, y_test_dum])\n",
    "dataset.append([X_train_d2v, X_val_d2v, X_test_d2v, y_train_dum, y_val_dum, y_test_dum])\n",
    "dataset.append([X_train_tfidf, X_val_tfidf, X_test_tfidf, y_train_dum, y_val_dum, y_test_dum])\n",
    "dataset.append([X_train_bert, X_val_bert, X_test_bert, y_train_dum, y_val_dum, y_test_dum])"
   ]
  },
  {
   "cell_type": "code",
   "execution_count": null,
   "metadata": {},
   "outputs": [],
   "source": [
    "tf.keras.utils.set_random_seed(\n",
    "    42\n",
    ")"
   ]
  },
  {
   "cell_type": "markdown",
   "metadata": {},
   "source": [
    "## ANN"
   ]
  },
  {
   "cell_type": "code",
   "execution_count": null,
   "metadata": {},
   "outputs": [],
   "source": [
    "param_list = [\n",
    "    {'num_classes' : y_train_dum.shape[1], 'hidden_layers_dims' : [64, 128], 'lr' : 0.001, 'reg' :  0.000001, 'dropout' : 0.5}, #OHE\n",
    "    {'num_classes' : y_train_dum.shape[1], 'hidden_layers_dims' : [32, 64], 'lr' : 0.001, 'reg' :  0.001, 'dropout' : 0.4}, #W2V\n",
    "    {'num_classes' : y_train_dum.shape[1], 'hidden_layers_dims' : [32, 64], 'lr' : 0.001, 'reg' :  0.001, 'dropout' : 0.4}, #D2V\n",
    "    {'num_classes' : y_train_dum.shape[1], 'hidden_layers_dims' : [32, 64], 'lr' : 0.001, 'reg' :  0.001, 'dropout' : 0.3}, #TFIDF\n",
    "    {'num_classes' : y_train_dum.shape[1], 'hidden_layers_dims' : [32, 64], 'lr' : 0.001, 'reg' :  0.001, 'dropout' : 0.3} #BERT\n",
    "]"
   ]
  },
  {
   "cell_type": "code",
   "execution_count": null,
   "metadata": {},
   "outputs": [],
   "source": [
    "res = results_NN(dataset, param_list)\n",
    "plot_res(res)"
   ]
  },
  {
   "cell_type": "code",
   "execution_count": null,
   "metadata": {},
   "outputs": [],
   "source": [
    "param_list = [\n",
    "    {'num_classes' : y_train_dum.shape[1], 'lr' : 0.0001, 'reg' :  0.001, 'dropout' : 0.3, 'n_blocks' : 2}, #OHE\n",
    "    {'num_classes' : y_train_dum.shape[1], 'lr' : 0.001, 'reg' :  0.001, 'dropout' : 0.3, 'n_blocks' : 1}, #W2V\n",
    "    {'num_classes' : y_train_dum.shape[1], 'lr' : 0.001, 'reg' :  0.001, 'dropout' : 0.5, 'n_blocks' : 1}, #D2V\n",
    "    {'num_classes' : y_train_dum.shape[1], 'lr' : 0.001, 'reg' :  0.001, 'dropout' : 0.5, 'n_blocks' : 1}, #TFIDF\n",
    "    {'num_classes' : y_train_dum.shape[1], 'lr' : 0.0001, 'reg' :  0.001, 'dropout' : 0.4, 'n_blocks' : 1} #BERT\n",
    "]"
   ]
  },
  {
   "cell_type": "code",
   "execution_count": null,
   "metadata": {},
   "outputs": [],
   "source": [
    "res=results_NN(dataset, param_list, epochs=70, cnn=True)\n",
    "plot_res(res)"
   ]
  }
 ],
 "metadata": {
  "kernelspec": {
   "display_name": "base",
   "language": "python",
   "name": "python3"
  },
  "language_info": {
   "codemirror_mode": {
    "name": "ipython",
    "version": 3
   },
   "file_extension": ".py",
   "mimetype": "text/x-python",
   "name": "python",
   "nbconvert_exporter": "python",
   "pygments_lexer": "ipython3",
   "version": "3.11.4"
  },
  "orig_nbformat": 4
 },
 "nbformat": 4,
 "nbformat_minor": 2
}
